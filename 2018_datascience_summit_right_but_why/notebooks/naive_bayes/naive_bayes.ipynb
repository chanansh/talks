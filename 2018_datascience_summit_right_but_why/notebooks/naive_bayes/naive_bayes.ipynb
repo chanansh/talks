{
 "cells": [
  {
   "cell_type": "markdown",
   "metadata": {
    "colab_type": "text",
    "id": "XjKlpyNRRurI",
    "slideshow": {
     "slide_type": "slide"
    }
   },
   "source": [
    "# Right, but Why?!  \n",
    "## The Multinomial Naive Bayes Approach\n",
    "Written by Dr. Hanan Shteingart\n",
    "\n",
    "All Rights Reserved"
   ]
  },
  {
   "cell_type": "markdown",
   "metadata": {
    "colab_type": "text",
    "id": "TvokprZeRq-d",
    "slideshow": {
     "slide_type": "slide"
    }
   },
   "source": [
    "\n",
    "## Why?\n",
    "Find the most important feature for a **specific** decision of a NB classifier.\n"
   ]
  },
  {
   "cell_type": "markdown",
   "metadata": {
    "colab_type": "text",
    "id": "3rrCqr5YRq-f",
    "slideshow": {
     "slide_type": "slide"
    }
   },
   "source": [
    "\n",
    "## How?\n",
    "Naive Bayes is named as “Naive” because it works on a very simplified assumption that features are independent of each other and each contributes to the output independently.\n",
    "\n",
    "Given a feature vector $x=[x_1,x_2,…,x_n]$ and a class label $c\\in\\{ 1,2,…,C \\} $, the probability of this data point belonging to this class is:\n",
    "\n",
    "$p(c|x_1,x_2,…,x_n)\\propto p(c,x_1,x_2,…,x_n)\\propto p(c)p(x_1|c)p(x_2|c)…p(x_n|c)\\propto p(c)\\prod_{i=1}^n{p(x_i|c)}$.\n",
    "\n",
    "The Naive Bayes classifier is then defined as:\n",
    "\n",
    "$\\hat{y}=argmax_{c\\in\\{1,...,C\\}}\\prod_{i=1}^n{p(x_i|c)}$\n",
    "\n",
    "Because the model has learned the prior $p(x_i|c)$ during the training, the contribution of an individual feature value can be easily measured by the posterior, $p(c|x_i)=p(c)p(x_i|c)/p(x_i)$ (recall Bayes rule $P(A|B)=P(B|A)P(A)/P(B)$).\n"
   ]
  },
  {
   "cell_type": "markdown",
   "metadata": {
    "colab_type": "text",
    "id": "0_kclHPeRq-h",
    "slideshow": {
     "slide_type": "slide"
    }
   },
   "source": [
    "\n",
    "## What?\n",
    "Write a code which implements the above on the **20 newsgroups dataset**.\n",
    "\n",
    "The 20 newsgroups dataset comprises around 18000 newsgroups posts on 20 topics split in two subsets: one for training (or development) and the other one for testing (or for performance evaluation). The split between the train and test set is based upon a messages posted before and after a specific date.\n",
    "\n"
   ]
  },
  {
   "cell_type": "markdown",
   "metadata": {
    "colab_type": "text",
    "id": "IrdmeWtMgO4W",
    "slideshow": {
     "slide_type": "slide"
    }
   },
   "source": [
    "## Imports"
   ]
  },
  {
   "cell_type": "code",
   "execution_count": 8,
   "metadata": {
    "colab": {
     "autoexec": {
      "startup": false,
      "wait_interval": 0
     }
    },
    "colab_type": "code",
    "id": "qfKMwkAzRq-k",
    "slideshow": {
     "slide_type": "fragment"
    }
   },
   "outputs": [],
   "source": [
    "from sklearn.datasets import fetch_20newsgroups, fetch_20newsgroups_vectorized\n",
    "from sklearn.feature_extraction.text import CountVectorizer, TfidfVectorizer\n",
    "from sklearn.naive_bayes import MultinomialNB\n",
    "from sklearn.pipeline import make_pipeline\n",
    "from sklearn.metrics import accuracy_score, confusion_matrix\n",
    "import pandas as pd\n",
    "import sys\n",
    "import numpy as np\n",
    "from scipy.stats import binom\n",
    "from scipy.misc import factorial\n",
    "import string"
   ]
  },
  {
   "cell_type": "markdown",
   "metadata": {
    "colab_type": "text",
    "id": "UeR_EOOgQOSc",
    "slideshow": {
     "slide_type": "slide"
    }
   },
   "source": [
    "## Get Data"
   ]
  },
  {
   "cell_type": "code",
   "execution_count": 9,
   "metadata": {
    "cellView": "code",
    "colab": {
     "autoexec": {
      "startup": false,
      "wait_interval": 0
     },
     "base_uri": "https://localhost:8080/",
     "height": 85
    },
    "colab_type": "code",
    "executionInfo": {
     "elapsed": 15609,
     "status": "ok",
     "timestamp": 1527167707272,
     "user": {
      "displayName": "Hanan Shteingart",
      "photoUrl": "//lh6.googleusercontent.com/-jS1D3g51aU8/AAAAAAAAAAI/AAAAAAABEdI/FmJi29ZHYV4/s50-c-k-no/photo.jpg",
      "userId": "103791044127940926669"
     },
     "user_tz": -180
    },
    "id": "jklTLyEIQCTZ",
    "outputId": "28a5b5bd-9f3d-4e70-e843-0241229c8334",
    "slideshow": {
     "slide_type": "fragment"
    }
   },
   "outputs": [
    {
     "name": "stdout",
     "output_type": "stream",
     "text": [
      "train - 11314 documents\n",
      "test - 7532 documents\n"
     ]
    }
   ],
   "source": [
    "random_state = 42\n",
    "shuffle = True\n",
    "remove = []\n",
    "data_dict = {}\n",
    "for subset in [\"train\", \"test\"]:\n",
    "  data = fetch_20newsgroups(subset=subset,\n",
    "                            shuffle=shuffle, \n",
    "                            random_state=random_state,\n",
    "                            remove=remove)\n",
    "  data_dict[subset] = data\n",
    "  n = len(data.data)\n",
    "  print(\"{} - {} documents\".format(subset, n))\n",
    "X_train, y_train = data_dict['train'].data, data_dict['train'].target\n",
    "X_test, y_test = data_dict['test'].data, data_dict['test'].target\n",
    "target_names = data_dict['train'].target_names"
   ]
  },
  {
   "cell_type": "markdown",
   "metadata": {
    "colab_type": "text",
    "id": "9JB2Ywa6lKo_",
    "slideshow": {
     "slide_type": "slide"
    }
   },
   "source": [
    "## Train"
   ]
  },
  {
   "cell_type": "code",
   "execution_count": 10,
   "metadata": {
    "colab": {
     "autoexec": {
      "startup": false,
      "wait_interval": 0
     },
     "base_uri": "https://localhost:8080/",
     "height": 136
    },
    "colab_type": "code",
    "executionInfo": {
     "elapsed": 3608,
     "status": "ok",
     "timestamp": 1527167710900,
     "user": {
      "displayName": "Hanan Shteingart",
      "photoUrl": "//lh6.googleusercontent.com/-jS1D3g51aU8/AAAAAAAAAAI/AAAAAAABEdI/FmJi29ZHYV4/s50-c-k-no/photo.jpg",
      "userId": "103791044127940926669"
     },
     "user_tz": -180
    },
    "id": "7k6Tb_QaJXGh",
    "outputId": "f281bfe9-424d-4cee-d27d-fc8519d7b7a7",
    "slideshow": {
     "slide_type": "-"
    }
   },
   "outputs": [
    {
     "data": {
      "text/plain": [
       "Pipeline(memory=None,\n",
       "     steps=[('countvectorizer', CountVectorizer(analyzer='word', binary=False, decode_error='strict',\n",
       "        dtype=<class 'numpy.int64'>, encoding='utf-8', input='content',\n",
       "        lowercase=True, max_df=1.0, max_features=None, min_df=1,\n",
       "        ngram_range=(1, 1), preprocessor=None, stop_words='english',\n",
       "        strip_accents=None, token_pattern='(?u)\\\\b\\\\w\\\\w+\\\\b',\n",
       "        tokenizer=None, vocabulary=None)), ('multinomialnb', MultinomialNB(alpha=1.0, class_prior=None, fit_prior=True))])"
      ]
     },
     "execution_count": 10,
     "metadata": {},
     "output_type": "execute_result"
    }
   ],
   "source": [
    "max_features=2**16\n",
    "vectorizer = CountVectorizer(stop_words='english')\n",
    "model = MultinomialNB()\n",
    "pipeline = make_pipeline(vectorizer, model)\n",
    "pipeline.fit(X_train, y_train)"
   ]
  },
  {
   "cell_type": "markdown",
   "metadata": {
    "colab_type": "text",
    "id": "f_SuIrVwmZfI",
    "slideshow": {
     "slide_type": "slide"
    }
   },
   "source": [
    "## Test"
   ]
  },
  {
   "cell_type": "code",
   "execution_count": 11,
   "metadata": {
    "colab": {
     "autoexec": {
      "startup": false,
      "wait_interval": 0
     }
    },
    "colab_type": "code",
    "id": "tkUFYzJTLHql",
    "slideshow": {
     "slide_type": "-"
    }
   },
   "outputs": [],
   "source": [
    "pred = pipeline.predict(X_test)"
   ]
  },
  {
   "cell_type": "markdown",
   "metadata": {
    "colab_type": "text",
    "id": "-YwOOXVHmjb0",
    "slideshow": {
     "slide_type": "slide"
    }
   },
   "source": [
    "## Performance Evaluation"
   ]
  },
  {
   "cell_type": "code",
   "execution_count": 12,
   "metadata": {
    "colab": {
     "autoexec": {
      "startup": false,
      "wait_interval": 0
     },
     "base_uri": "https://localhost:8080/",
     "height": 686
    },
    "colab_type": "code",
    "executionInfo": {
     "elapsed": 556,
     "status": "ok",
     "timestamp": 1527167713847,
     "user": {
      "displayName": "Hanan Shteingart",
      "photoUrl": "//lh6.googleusercontent.com/-jS1D3g51aU8/AAAAAAAAAAI/AAAAAAABEdI/FmJi29ZHYV4/s50-c-k-no/photo.jpg",
      "userId": "103791044127940926669"
     },
     "user_tz": -180
    },
    "id": "qsnMKbSPRq-8",
    "outputId": "a7c9538a-f809-4dcc-84a8-2f28aa15776b"
   },
   "outputs": [
    {
     "name": "stdout",
     "output_type": "stream",
     "text": [
      "accuracy score: 0.80\n"
     ]
    },
    {
     "data": {
      "text/html": [
       "<div>\n",
       "<style scoped>\n",
       "    .dataframe tbody tr th:only-of-type {\n",
       "        vertical-align: middle;\n",
       "    }\n",
       "\n",
       "    .dataframe tbody tr th {\n",
       "        vertical-align: top;\n",
       "    }\n",
       "\n",
       "    .dataframe thead th {\n",
       "        text-align: right;\n",
       "    }\n",
       "</style>\n",
       "<table border=\"1\" class=\"dataframe\">\n",
       "  <thead>\n",
       "    <tr style=\"text-align: right;\">\n",
       "      <th></th>\n",
       "      <th>0</th>\n",
       "      <th>1</th>\n",
       "      <th>2</th>\n",
       "      <th>3</th>\n",
       "      <th>4</th>\n",
       "      <th>5</th>\n",
       "      <th>6</th>\n",
       "      <th>7</th>\n",
       "      <th>8</th>\n",
       "      <th>9</th>\n",
       "      <th>10</th>\n",
       "      <th>11</th>\n",
       "      <th>12</th>\n",
       "      <th>13</th>\n",
       "      <th>14</th>\n",
       "      <th>15</th>\n",
       "      <th>16</th>\n",
       "      <th>17</th>\n",
       "      <th>18</th>\n",
       "      <th>19</th>\n",
       "    </tr>\n",
       "  </thead>\n",
       "  <tbody>\n",
       "    <tr>\n",
       "      <th>alt.atheism</th>\n",
       "      <td>257</td>\n",
       "      <td>0</td>\n",
       "      <td>0</td>\n",
       "      <td>2</td>\n",
       "      <td>0</td>\n",
       "      <td>1</td>\n",
       "      <td>0</td>\n",
       "      <td>0</td>\n",
       "      <td>1</td>\n",
       "      <td>1</td>\n",
       "      <td>2</td>\n",
       "      <td>1</td>\n",
       "      <td>1</td>\n",
       "      <td>6</td>\n",
       "      <td>3</td>\n",
       "      <td>27</td>\n",
       "      <td>3</td>\n",
       "      <td>6</td>\n",
       "      <td>3</td>\n",
       "      <td>5</td>\n",
       "    </tr>\n",
       "    <tr>\n",
       "      <th>comp.graphics</th>\n",
       "      <td>1</td>\n",
       "      <td>310</td>\n",
       "      <td>0</td>\n",
       "      <td>14</td>\n",
       "      <td>6</td>\n",
       "      <td>22</td>\n",
       "      <td>1</td>\n",
       "      <td>0</td>\n",
       "      <td>0</td>\n",
       "      <td>2</td>\n",
       "      <td>0</td>\n",
       "      <td>12</td>\n",
       "      <td>7</td>\n",
       "      <td>2</td>\n",
       "      <td>7</td>\n",
       "      <td>0</td>\n",
       "      <td>1</td>\n",
       "      <td>1</td>\n",
       "      <td>3</td>\n",
       "      <td>0</td>\n",
       "    </tr>\n",
       "    <tr>\n",
       "      <th>comp.os.ms-windows.misc</th>\n",
       "      <td>1</td>\n",
       "      <td>67</td>\n",
       "      <td>16</td>\n",
       "      <td>145</td>\n",
       "      <td>15</td>\n",
       "      <td>93</td>\n",
       "      <td>3</td>\n",
       "      <td>1</td>\n",
       "      <td>4</td>\n",
       "      <td>4</td>\n",
       "      <td>1</td>\n",
       "      <td>17</td>\n",
       "      <td>3</td>\n",
       "      <td>2</td>\n",
       "      <td>8</td>\n",
       "      <td>1</td>\n",
       "      <td>1</td>\n",
       "      <td>1</td>\n",
       "      <td>10</td>\n",
       "      <td>1</td>\n",
       "    </tr>\n",
       "    <tr>\n",
       "      <th>comp.sys.ibm.pc.hardware</th>\n",
       "      <td>0</td>\n",
       "      <td>11</td>\n",
       "      <td>1</td>\n",
       "      <td>313</td>\n",
       "      <td>16</td>\n",
       "      <td>10</td>\n",
       "      <td>6</td>\n",
       "      <td>3</td>\n",
       "      <td>1</td>\n",
       "      <td>0</td>\n",
       "      <td>1</td>\n",
       "      <td>4</td>\n",
       "      <td>21</td>\n",
       "      <td>0</td>\n",
       "      <td>5</td>\n",
       "      <td>0</td>\n",
       "      <td>0</td>\n",
       "      <td>0</td>\n",
       "      <td>0</td>\n",
       "      <td>0</td>\n",
       "    </tr>\n",
       "    <tr>\n",
       "      <th>comp.sys.mac.hardware</th>\n",
       "      <td>0</td>\n",
       "      <td>13</td>\n",
       "      <td>1</td>\n",
       "      <td>20</td>\n",
       "      <td>306</td>\n",
       "      <td>6</td>\n",
       "      <td>6</td>\n",
       "      <td>4</td>\n",
       "      <td>2</td>\n",
       "      <td>2</td>\n",
       "      <td>0</td>\n",
       "      <td>4</td>\n",
       "      <td>11</td>\n",
       "      <td>3</td>\n",
       "      <td>3</td>\n",
       "      <td>0</td>\n",
       "      <td>2</td>\n",
       "      <td>0</td>\n",
       "      <td>2</td>\n",
       "      <td>0</td>\n",
       "    </tr>\n",
       "    <tr>\n",
       "      <th>comp.windows.x</th>\n",
       "      <td>1</td>\n",
       "      <td>34</td>\n",
       "      <td>2</td>\n",
       "      <td>11</td>\n",
       "      <td>1</td>\n",
       "      <td>332</td>\n",
       "      <td>0</td>\n",
       "      <td>0</td>\n",
       "      <td>0</td>\n",
       "      <td>0</td>\n",
       "      <td>0</td>\n",
       "      <td>6</td>\n",
       "      <td>0</td>\n",
       "      <td>2</td>\n",
       "      <td>4</td>\n",
       "      <td>0</td>\n",
       "      <td>2</td>\n",
       "      <td>0</td>\n",
       "      <td>0</td>\n",
       "      <td>0</td>\n",
       "    </tr>\n",
       "    <tr>\n",
       "      <th>misc.forsale</th>\n",
       "      <td>0</td>\n",
       "      <td>3</td>\n",
       "      <td>0</td>\n",
       "      <td>31</td>\n",
       "      <td>13</td>\n",
       "      <td>3</td>\n",
       "      <td>288</td>\n",
       "      <td>15</td>\n",
       "      <td>3</td>\n",
       "      <td>1</td>\n",
       "      <td>6</td>\n",
       "      <td>0</td>\n",
       "      <td>12</td>\n",
       "      <td>7</td>\n",
       "      <td>3</td>\n",
       "      <td>0</td>\n",
       "      <td>2</td>\n",
       "      <td>1</td>\n",
       "      <td>2</td>\n",
       "      <td>0</td>\n",
       "    </tr>\n",
       "    <tr>\n",
       "      <th>rec.autos</th>\n",
       "      <td>0</td>\n",
       "      <td>1</td>\n",
       "      <td>0</td>\n",
       "      <td>2</td>\n",
       "      <td>0</td>\n",
       "      <td>0</td>\n",
       "      <td>5</td>\n",
       "      <td>364</td>\n",
       "      <td>4</td>\n",
       "      <td>1</td>\n",
       "      <td>2</td>\n",
       "      <td>1</td>\n",
       "      <td>5</td>\n",
       "      <td>1</td>\n",
       "      <td>3</td>\n",
       "      <td>0</td>\n",
       "      <td>2</td>\n",
       "      <td>1</td>\n",
       "      <td>4</td>\n",
       "      <td>0</td>\n",
       "    </tr>\n",
       "    <tr>\n",
       "      <th>rec.motorcycles</th>\n",
       "      <td>0</td>\n",
       "      <td>0</td>\n",
       "      <td>0</td>\n",
       "      <td>1</td>\n",
       "      <td>0</td>\n",
       "      <td>0</td>\n",
       "      <td>3</td>\n",
       "      <td>10</td>\n",
       "      <td>375</td>\n",
       "      <td>0</td>\n",
       "      <td>0</td>\n",
       "      <td>1</td>\n",
       "      <td>2</td>\n",
       "      <td>0</td>\n",
       "      <td>0</td>\n",
       "      <td>0</td>\n",
       "      <td>1</td>\n",
       "      <td>0</td>\n",
       "      <td>5</td>\n",
       "      <td>0</td>\n",
       "    </tr>\n",
       "    <tr>\n",
       "      <th>rec.sport.baseball</th>\n",
       "      <td>0</td>\n",
       "      <td>0</td>\n",
       "      <td>0</td>\n",
       "      <td>0</td>\n",
       "      <td>1</td>\n",
       "      <td>0</td>\n",
       "      <td>1</td>\n",
       "      <td>4</td>\n",
       "      <td>0</td>\n",
       "      <td>364</td>\n",
       "      <td>18</td>\n",
       "      <td>0</td>\n",
       "      <td>0</td>\n",
       "      <td>0</td>\n",
       "      <td>2</td>\n",
       "      <td>0</td>\n",
       "      <td>2</td>\n",
       "      <td>2</td>\n",
       "      <td>3</td>\n",
       "      <td>0</td>\n",
       "    </tr>\n",
       "    <tr>\n",
       "      <th>rec.sport.hockey</th>\n",
       "      <td>0</td>\n",
       "      <td>0</td>\n",
       "      <td>0</td>\n",
       "      <td>0</td>\n",
       "      <td>0</td>\n",
       "      <td>0</td>\n",
       "      <td>0</td>\n",
       "      <td>0</td>\n",
       "      <td>0</td>\n",
       "      <td>5</td>\n",
       "      <td>387</td>\n",
       "      <td>1</td>\n",
       "      <td>0</td>\n",
       "      <td>1</td>\n",
       "      <td>1</td>\n",
       "      <td>1</td>\n",
       "      <td>0</td>\n",
       "      <td>0</td>\n",
       "      <td>3</td>\n",
       "      <td>0</td>\n",
       "    </tr>\n",
       "    <tr>\n",
       "      <th>sci.crypt</th>\n",
       "      <td>0</td>\n",
       "      <td>2</td>\n",
       "      <td>0</td>\n",
       "      <td>0</td>\n",
       "      <td>0</td>\n",
       "      <td>2</td>\n",
       "      <td>2</td>\n",
       "      <td>1</td>\n",
       "      <td>0</td>\n",
       "      <td>0</td>\n",
       "      <td>0</td>\n",
       "      <td>379</td>\n",
       "      <td>2</td>\n",
       "      <td>2</td>\n",
       "      <td>3</td>\n",
       "      <td>0</td>\n",
       "      <td>2</td>\n",
       "      <td>0</td>\n",
       "      <td>1</td>\n",
       "      <td>0</td>\n",
       "    </tr>\n",
       "    <tr>\n",
       "      <th>sci.electronics</th>\n",
       "      <td>0</td>\n",
       "      <td>18</td>\n",
       "      <td>0</td>\n",
       "      <td>26</td>\n",
       "      <td>4</td>\n",
       "      <td>4</td>\n",
       "      <td>6</td>\n",
       "      <td>3</td>\n",
       "      <td>2</td>\n",
       "      <td>0</td>\n",
       "      <td>0</td>\n",
       "      <td>35</td>\n",
       "      <td>275</td>\n",
       "      <td>9</td>\n",
       "      <td>5</td>\n",
       "      <td>1</td>\n",
       "      <td>0</td>\n",
       "      <td>2</td>\n",
       "      <td>3</td>\n",
       "      <td>0</td>\n",
       "    </tr>\n",
       "    <tr>\n",
       "      <th>sci.med</th>\n",
       "      <td>5</td>\n",
       "      <td>7</td>\n",
       "      <td>0</td>\n",
       "      <td>2</td>\n",
       "      <td>0</td>\n",
       "      <td>1</td>\n",
       "      <td>2</td>\n",
       "      <td>1</td>\n",
       "      <td>0</td>\n",
       "      <td>2</td>\n",
       "      <td>1</td>\n",
       "      <td>1</td>\n",
       "      <td>5</td>\n",
       "      <td>343</td>\n",
       "      <td>5</td>\n",
       "      <td>5</td>\n",
       "      <td>2</td>\n",
       "      <td>4</td>\n",
       "      <td>10</td>\n",
       "      <td>0</td>\n",
       "    </tr>\n",
       "    <tr>\n",
       "      <th>sci.space</th>\n",
       "      <td>2</td>\n",
       "      <td>6</td>\n",
       "      <td>0</td>\n",
       "      <td>0</td>\n",
       "      <td>0</td>\n",
       "      <td>3</td>\n",
       "      <td>0</td>\n",
       "      <td>1</td>\n",
       "      <td>0</td>\n",
       "      <td>0</td>\n",
       "      <td>0</td>\n",
       "      <td>1</td>\n",
       "      <td>2</td>\n",
       "      <td>4</td>\n",
       "      <td>364</td>\n",
       "      <td>1</td>\n",
       "      <td>1</td>\n",
       "      <td>1</td>\n",
       "      <td>8</td>\n",
       "      <td>0</td>\n",
       "    </tr>\n",
       "    <tr>\n",
       "      <th>soc.religion.christian</th>\n",
       "      <td>4</td>\n",
       "      <td>2</td>\n",
       "      <td>0</td>\n",
       "      <td>1</td>\n",
       "      <td>0</td>\n",
       "      <td>1</td>\n",
       "      <td>0</td>\n",
       "      <td>0</td>\n",
       "      <td>0</td>\n",
       "      <td>0</td>\n",
       "      <td>1</td>\n",
       "      <td>0</td>\n",
       "      <td>1</td>\n",
       "      <td>3</td>\n",
       "      <td>2</td>\n",
       "      <td>377</td>\n",
       "      <td>0</td>\n",
       "      <td>0</td>\n",
       "      <td>1</td>\n",
       "      <td>5</td>\n",
       "    </tr>\n",
       "    <tr>\n",
       "      <th>talk.politics.guns</th>\n",
       "      <td>0</td>\n",
       "      <td>1</td>\n",
       "      <td>0</td>\n",
       "      <td>1</td>\n",
       "      <td>0</td>\n",
       "      <td>0</td>\n",
       "      <td>2</td>\n",
       "      <td>0</td>\n",
       "      <td>2</td>\n",
       "      <td>1</td>\n",
       "      <td>0</td>\n",
       "      <td>5</td>\n",
       "      <td>0</td>\n",
       "      <td>0</td>\n",
       "      <td>0</td>\n",
       "      <td>0</td>\n",
       "      <td>337</td>\n",
       "      <td>1</td>\n",
       "      <td>13</td>\n",
       "      <td>1</td>\n",
       "    </tr>\n",
       "    <tr>\n",
       "      <th>talk.politics.mideast</th>\n",
       "      <td>4</td>\n",
       "      <td>1</td>\n",
       "      <td>0</td>\n",
       "      <td>0</td>\n",
       "      <td>0</td>\n",
       "      <td>2</td>\n",
       "      <td>0</td>\n",
       "      <td>0</td>\n",
       "      <td>0</td>\n",
       "      <td>1</td>\n",
       "      <td>0</td>\n",
       "      <td>3</td>\n",
       "      <td>0</td>\n",
       "      <td>1</td>\n",
       "      <td>0</td>\n",
       "      <td>1</td>\n",
       "      <td>2</td>\n",
       "      <td>353</td>\n",
       "      <td>8</td>\n",
       "      <td>0</td>\n",
       "    </tr>\n",
       "    <tr>\n",
       "      <th>talk.politics.misc</th>\n",
       "      <td>2</td>\n",
       "      <td>0</td>\n",
       "      <td>0</td>\n",
       "      <td>0</td>\n",
       "      <td>0</td>\n",
       "      <td>0</td>\n",
       "      <td>0</td>\n",
       "      <td>1</td>\n",
       "      <td>0</td>\n",
       "      <td>0</td>\n",
       "      <td>1</td>\n",
       "      <td>3</td>\n",
       "      <td>0</td>\n",
       "      <td>3</td>\n",
       "      <td>11</td>\n",
       "      <td>1</td>\n",
       "      <td>89</td>\n",
       "      <td>3</td>\n",
       "      <td>193</td>\n",
       "      <td>3</td>\n",
       "    </tr>\n",
       "    <tr>\n",
       "      <th>talk.religion.misc</th>\n",
       "      <td>44</td>\n",
       "      <td>2</td>\n",
       "      <td>0</td>\n",
       "      <td>0</td>\n",
       "      <td>0</td>\n",
       "      <td>1</td>\n",
       "      <td>0</td>\n",
       "      <td>0</td>\n",
       "      <td>0</td>\n",
       "      <td>0</td>\n",
       "      <td>1</td>\n",
       "      <td>1</td>\n",
       "      <td>0</td>\n",
       "      <td>3</td>\n",
       "      <td>4</td>\n",
       "      <td>50</td>\n",
       "      <td>22</td>\n",
       "      <td>3</td>\n",
       "      <td>10</td>\n",
       "      <td>110</td>\n",
       "    </tr>\n",
       "  </tbody>\n",
       "</table>\n",
       "</div>"
      ],
      "text/plain": [
       "                           0    1   2    3    4    5    6    7    8    9   \\\n",
       "alt.atheism               257    0   0    2    0    1    0    0    1    1   \n",
       "comp.graphics               1  310   0   14    6   22    1    0    0    2   \n",
       "comp.os.ms-windows.misc     1   67  16  145   15   93    3    1    4    4   \n",
       "comp.sys.ibm.pc.hardware    0   11   1  313   16   10    6    3    1    0   \n",
       "comp.sys.mac.hardware       0   13   1   20  306    6    6    4    2    2   \n",
       "comp.windows.x              1   34   2   11    1  332    0    0    0    0   \n",
       "misc.forsale                0    3   0   31   13    3  288   15    3    1   \n",
       "rec.autos                   0    1   0    2    0    0    5  364    4    1   \n",
       "rec.motorcycles             0    0   0    1    0    0    3   10  375    0   \n",
       "rec.sport.baseball          0    0   0    0    1    0    1    4    0  364   \n",
       "rec.sport.hockey            0    0   0    0    0    0    0    0    0    5   \n",
       "sci.crypt                   0    2   0    0    0    2    2    1    0    0   \n",
       "sci.electronics             0   18   0   26    4    4    6    3    2    0   \n",
       "sci.med                     5    7   0    2    0    1    2    1    0    2   \n",
       "sci.space                   2    6   0    0    0    3    0    1    0    0   \n",
       "soc.religion.christian      4    2   0    1    0    1    0    0    0    0   \n",
       "talk.politics.guns          0    1   0    1    0    0    2    0    2    1   \n",
       "talk.politics.mideast       4    1   0    0    0    2    0    0    0    1   \n",
       "talk.politics.misc          2    0   0    0    0    0    0    1    0    0   \n",
       "talk.religion.misc         44    2   0    0    0    1    0    0    0    0   \n",
       "\n",
       "                           10   11   12   13   14   15   16   17   18   19  \n",
       "alt.atheism                 2    1    1    6    3   27    3    6    3    5  \n",
       "comp.graphics               0   12    7    2    7    0    1    1    3    0  \n",
       "comp.os.ms-windows.misc     1   17    3    2    8    1    1    1   10    1  \n",
       "comp.sys.ibm.pc.hardware    1    4   21    0    5    0    0    0    0    0  \n",
       "comp.sys.mac.hardware       0    4   11    3    3    0    2    0    2    0  \n",
       "comp.windows.x              0    6    0    2    4    0    2    0    0    0  \n",
       "misc.forsale                6    0   12    7    3    0    2    1    2    0  \n",
       "rec.autos                   2    1    5    1    3    0    2    1    4    0  \n",
       "rec.motorcycles             0    1    2    0    0    0    1    0    5    0  \n",
       "rec.sport.baseball         18    0    0    0    2    0    2    2    3    0  \n",
       "rec.sport.hockey          387    1    0    1    1    1    0    0    3    0  \n",
       "sci.crypt                   0  379    2    2    3    0    2    0    1    0  \n",
       "sci.electronics             0   35  275    9    5    1    0    2    3    0  \n",
       "sci.med                     1    1    5  343    5    5    2    4   10    0  \n",
       "sci.space                   0    1    2    4  364    1    1    1    8    0  \n",
       "soc.religion.christian      1    0    1    3    2  377    0    0    1    5  \n",
       "talk.politics.guns          0    5    0    0    0    0  337    1   13    1  \n",
       "talk.politics.mideast       0    3    0    1    0    1    2  353    8    0  \n",
       "talk.politics.misc          1    3    0    3   11    1   89    3  193    3  \n",
       "talk.religion.misc          1    1    0    3    4   50   22    3   10  110  "
      ]
     },
     "execution_count": 12,
     "metadata": {},
     "output_type": "execute_result"
    }
   ],
   "source": [
    "print('accuracy score: {:3.2f}'.format(accuracy_score(pred, y_test)))\n",
    "pd.DataFrame(confusion_matrix(y_true=y_test, y_pred=pred), index=target_names)"
   ]
  },
  {
   "cell_type": "markdown",
   "metadata": {
    "colab_type": "text",
    "id": "a8FRo3syoJpR",
    "slideshow": {
     "slide_type": "slide"
    }
   },
   "source": [
    "## EXERCISE: Compute $P(c|x_i)$\n",
    "Implement a function  which get a scikit-learn NB model as input and returns $P(c|x_i)$:\n",
    "\n",
    "`def calc_p_c_given_xi(model)`\n",
    "\n",
    "Hint: Use the following model properties:\n",
    "\n",
    "* `model.class_log_prior_`\n",
    "* `model.feature_log_prob_`\n",
    "\n",
    "Remember:\n",
    "> $p(c|x_i)=p(c)p(x_i|c)/p(x_i)$ (recall Bayes rule $P(A|B)=P(B|A)P(A)/P(B)$).\n",
    "\n",
    "Note: remember these are logs and you need to use np.exp and normalize to get $P(c|x_i)$ \n",
    "Another hint: use numpy built-in broadcasting property"
   ]
  },
  {
   "cell_type": "code",
   "execution_count": 13,
   "metadata": {
    "slideshow": {
     "slide_type": "fragment"
    }
   },
   "outputs": [
    {
     "ename": "NameError",
     "evalue": "name 'p_c_w' is not defined",
     "output_type": "error",
     "traceback": [
      "\u001b[0;31m---------------------------------------------------------------------------\u001b[0m",
      "\u001b[0;31mNameError\u001b[0m                                 Traceback (most recent call last)",
      "\u001b[0;32m<ipython-input-13-3db99e39dea3>\u001b[0m in \u001b[0;36m<module>\u001b[0;34m()\u001b[0m\n\u001b[1;32m      2\u001b[0m   \u001b[0;31m# you code goes here\u001b[0m\u001b[0;34m\u001b[0m\u001b[0;34m\u001b[0m\u001b[0m\n\u001b[1;32m      3\u001b[0m   \u001b[0;32mreturn\u001b[0m \u001b[0mp_c_w\u001b[0m\u001b[0;34m\u001b[0m\u001b[0m\n\u001b[0;32m----> 4\u001b[0;31m \u001b[0mp_c_w\u001b[0m \u001b[0;34m=\u001b[0m \u001b[0mp_c_given_xi\u001b[0m\u001b[0;34m(\u001b[0m\u001b[0mmodel\u001b[0m\u001b[0;34m)\u001b[0m\u001b[0;34m\u001b[0m\u001b[0m\n\u001b[0m",
      "\u001b[0;32m<ipython-input-13-3db99e39dea3>\u001b[0m in \u001b[0;36mp_c_given_xi\u001b[0;34m(model)\u001b[0m\n\u001b[1;32m      1\u001b[0m \u001b[0;32mdef\u001b[0m \u001b[0mp_c_given_xi\u001b[0m\u001b[0;34m(\u001b[0m\u001b[0mmodel\u001b[0m\u001b[0;34m)\u001b[0m\u001b[0;34m:\u001b[0m\u001b[0;34m\u001b[0m\u001b[0m\n\u001b[1;32m      2\u001b[0m   \u001b[0;31m# you code goes here\u001b[0m\u001b[0;34m\u001b[0m\u001b[0;34m\u001b[0m\u001b[0m\n\u001b[0;32m----> 3\u001b[0;31m   \u001b[0;32mreturn\u001b[0m \u001b[0mp_c_w\u001b[0m\u001b[0;34m\u001b[0m\u001b[0m\n\u001b[0m\u001b[1;32m      4\u001b[0m \u001b[0mp_c_w\u001b[0m \u001b[0;34m=\u001b[0m \u001b[0mp_c_given_xi\u001b[0m\u001b[0;34m(\u001b[0m\u001b[0mmodel\u001b[0m\u001b[0;34m)\u001b[0m\u001b[0;34m\u001b[0m\u001b[0m\n",
      "\u001b[0;31mNameError\u001b[0m: name 'p_c_w' is not defined"
     ]
    }
   ],
   "source": [
    "def p_c_given_xi(model):\n",
    "  # you code goes here\n",
    "  return p_c_w\n",
    "p_c_w = p_c_given_xi(model)"
   ]
  },
  {
   "cell_type": "markdown",
   "metadata": {
    "slideshow": {
     "slide_type": "slide"
    }
   },
   "source": [
    "## Solution"
   ]
  },
  {
   "cell_type": "code",
   "execution_count": 20,
   "metadata": {
    "colab": {
     "autoexec": {
      "startup": false,
      "wait_interval": 0
     }
    },
    "colab_type": "code",
    "id": "4HDvw-lbO1DN",
    "slideshow": {
     "slide_type": "fragment"
    }
   },
   "outputs": [],
   "source": [
    "def p_c_given_xi(model):\n",
    "  # you code goes here\n",
    "  p_c = np.exp(model.class_log_prior_)\n",
    "  p_w_c = np.exp(model.feature_log_prob_)\n",
    "  p_c_w = p_c.reshape(-1,1)* p_w_c\n",
    "  p_c_w = p_c_w/p_c_w.sum(axis=0)\n",
    "  return p_c_w\n",
    "p_c_w = p_c_given_xi(model)"
   ]
  },
  {
   "cell_type": "markdown",
   "metadata": {
    "colab_type": "text",
    "id": "S4K1jyokNbaW",
    "slideshow": {
     "slide_type": "slide"
    }
   },
   "source": [
    "## Visualize the solution\n",
    "* Green are words which supports the true class.\n",
    "* Red are words which supports the false class, in case of mistake.\n",
    "* Purple are words which supports both."
   ]
  },
  {
   "cell_type": "code",
   "execution_count": 16,
   "metadata": {
    "colab": {
     "autoexec": {
      "startup": false,
      "wait_interval": 0
     }
    },
    "colab_type": "code",
    "id": "ubp80CCCNhEp",
    "slideshow": {
     "slide_type": "subslide"
    }
   },
   "outputs": [],
   "source": [
    "x = vectorizer.transform(X_test)\n",
    "idx2word={v:k for k, v in vectorizer.vocabulary_.items()}\n",
    "cold_color='\\x1b[41;37m{}\\x1b[0m'\n",
    "hot_color='\\x1b[42;37m{}\\x1b[0m'\n",
    "mid_color='\\x1b[45;37m{}\\x1b[0m' \n",
    "def word_by_score(c, word_index, min_p=0.1, max_n=10):\n",
    "  \"\"\"\n",
    "  return a pandas series with index being the word and its index and the value being p(c|xi)\n",
    "  \"\"\"\n",
    "  word_score = p_c_w[c, word_index]\n",
    "  words =[idx2word[w] for w in word_index]\n",
    "  s = pd.Series(word_score.flatten(), index=[words, word_index])\n",
    "  s.index.names=['word','idx']\n",
    "  s.name = 'score'\n",
    "  stop = s.sort_values(ascending=False)\n",
    "  stop = stop[stop>min_p]\n",
    "  if len(stop)>max_n:\n",
    "    stop = stop[:max_n]\n",
    "  return stop.reset_index()\n"
   ]
  },
  {
   "cell_type": "code",
   "execution_count": 17,
   "metadata": {
    "colab": {
     "autoexec": {
      "startup": false,
      "wait_interval": 0
     }
    },
    "colab_type": "code",
    "id": "2YeRgh6vRq_L",
    "slideshow": {
     "slide_type": "subslide"
    }
   },
   "outputs": [],
   "source": [
    "def print_txt(txt, hot, cold):\n",
    "  \"\"\"\n",
    "  print the text, coloring hot and cold words with colors\n",
    "  \"\"\"\n",
    "  def color(token):\n",
    "    lower = str(token).lower()\n",
    "    lower = lower.replace('\\t','').replace('\\n','')\n",
    "    lower = lower.translate(string.punctuation)\n",
    "    if (lower in hot) and (lower in cold):\n",
    "      return mid_color.format(token)\n",
    "    elif lower in hot:\n",
    "      return hot_color.format(token)\n",
    "    elif lower in cold:\n",
    "      return cold_color.format(token)\n",
    "    else:\n",
    "      return token\n",
    "  colored_txt = \" \".join([color(token) for token in txt.split(' ')])\n",
    "  print(colored_txt)\n"
   ]
  },
  {
   "cell_type": "code",
   "execution_count": 18,
   "metadata": {
    "colab": {
     "autoexec": {
      "startup": false,
      "wait_interval": 0
     }
    },
    "colab_type": "code",
    "id": "d53qmxRzRq_Q",
    "slideshow": {
     "slide_type": "subslide"
    }
   },
   "outputs": [],
   "source": [
    "def display_doc(i):\n",
    "  \"\"\"\n",
    "  displaying document i\n",
    "  \"\"\"\n",
    "  c_hat = pred[i]\n",
    "  c = y_test[i]\n",
    "  txt = X_test[i]\n",
    "  xi = x[i,:]\n",
    "  nz = xi.nonzero()[1] # non zero words\n",
    "\n",
    "  print('')\n",
    "  print('document={}, c={} ({}), guess correctly = {}'.format(i, c, target_names[c], c_hat==c))\n",
    "  print('-'*80)\n",
    "  hot = word_by_score(c,nz)\n",
    "  print(hot)\n",
    "  hot_words = hot.word.tolist()\n",
    "  if c_hat!=c:\n",
    "    print('-'*80)\n",
    "    print('score for incorrect guess c_hat={} ({})'.format(c_hat, target_names[c_hat]))\n",
    "    print('-'*80)\n",
    "    cold = word_by_score(c_hat,nz)\n",
    "    cold_words = cold.word.tolist()\n",
    "    print(cold)\n",
    "  else:\n",
    "    cold_words = []\n",
    "  print('-'*80)\n",
    "  print('text:')\n",
    "  print('-'*80)\n",
    "  print_txt(txt, hot_words, cold_words)"
   ]
  },
  {
   "cell_type": "code",
   "execution_count": 22,
   "metadata": {
    "colab": {
     "autoexec": {
      "startup": false,
      "wait_interval": 0
     },
     "base_uri": "https://localhost:8080/",
     "height": 2108
    },
    "colab_type": "code",
    "executionInfo": {
     "elapsed": 562,
     "status": "ok",
     "timestamp": 1527167790486,
     "user": {
      "displayName": "Hanan Shteingart",
      "photoUrl": "//lh6.googleusercontent.com/-jS1D3g51aU8/AAAAAAAAAAI/AAAAAAABEdI/FmJi29ZHYV4/s50-c-k-no/photo.jpg",
      "userId": "103791044127940926669"
     },
     "user_tz": -180
    },
    "id": "XhFuYGh0JVph",
    "outputId": "938d8ce5-0765-4997-eb27-39b974154489",
    "slideshow": {
     "slide_type": "slide"
    }
   },
   "outputs": [
    {
     "name": "stdout",
     "output_type": "stream",
     "text": [
      "\n",
      "document=7, c=15 (soc.religion.christian), guess correctly = False\n",
      "--------------------------------------------------------------------------------\n",
      "      word     idx     score\n",
      "0   hebrew   62426  0.308904\n",
      "1     paul   92220  0.267955\n",
      "2   africa   26589  0.210263\n",
      "3     word  124691  0.208367\n",
      "4  perfect   92787  0.141767\n",
      "5    greek   60165  0.126291\n",
      "6  lexicon   75340  0.117796\n",
      "--------------------------------------------------------------------------------\n",
      "score for incorrect guess c_hat=5 (comp.windows.x)\n",
      "--------------------------------------------------------------------------------\n",
      "         word     idx     score\n",
      "0        file   55216  0.315000\n",
      "1     restore  101196  0.239511\n",
      "2       email   51190  0.142708\n",
      "3          ac   25515  0.140652\n",
      "4     package   91444  0.120794\n",
      "5      thanks  114195  0.116164\n",
      "6  appreciate   28901  0.113957\n",
      "7         und  118273  0.112628\n",
      "8  processing   95900  0.111857\n",
      "9     address   26082  0.109681\n",
      "--------------------------------------------------------------------------------\n",
      "text:\n",
      "--------------------------------------------------------------------------------\n",
      "From: fortmann@superbowl.und.ac.za (Paul Fortmann - PG)\n",
      "Subject: \"The \u001b[42;37mWord\u001b[0m Perfect\" EXE \u001b[41;37mfile\u001b[0m needed\n",
      "Organization: University Of Natal (Durban)\n",
      "Lines: 14\n",
      "\n",
      "A friend of mine managed to get a copy of a computerised \u001b[42;37mGreek\u001b[0m and \u001b[42;37mHebrew\u001b[0m \u001b[42;37m\n",
      "Lexicon\u001b[0m called \"The \u001b[42;37mWord\u001b[0m Perfect\" (That is not the \u001b[42;37mword\u001b[0m \u001b[41;37mprocessing\u001b[0m \u001b[41;37m\n",
      "package\u001b[0m WordPerfect). However, some one wiped out the EXE file, and she \n",
      "has not been able to \u001b[41;37mrestore\u001b[0m it. There are no distributors of the \u001b[41;37mpackage\u001b[0m in \n",
      "South Africa. I would \u001b[41;37mappreciate\u001b[0m it, if some one could \u001b[41;37memail\u001b[0m me the file, or \n",
      "at least tell me where I could get it from. \n",
      "\n",
      "My \u001b[41;37memail\u001b[0m \u001b[41;37maddress\u001b[0m is\n",
      "\tfortmann@superbowl.und.ac.za     or\n",
      "\tfortmann@shrike.und.ac.za\n",
      " \n",
      "Many thanks.\n",
      "\n",
      "In Him, \u001b[42;37mPaul\u001b[0m Fortmann\n",
      "\n"
     ]
    }
   ],
   "source": [
    "i = 7\n",
    "display_doc(i)"
   ]
  },
  {
   "cell_type": "markdown",
   "metadata": {
    "colab_type": "text",
    "id": "oADdpXzgd6KS",
    "slideshow": {
     "slide_type": "fragment"
    }
   },
   "source": [
    "### References\n",
    "1. http://scikit-learn.org/stable/auto_examples/text/document_classification_20newsgroups.html#sphx-glr-auto-examples-text-document-classification-20newsgroups-py\n",
    "2. https://lilianweng.github.io/lil-log/2017/08/01/how-to-explain-the-prediction-of-a-machine-learning-model.html"
   ]
  }
 ],
 "metadata": {
  "celltoolbar": "Slideshow",
  "colab": {
   "collapsed_sections": [],
   "default_view": {},
   "name": "naive_bayes.ipynb",
   "provenance": [],
   "toc_visible": true,
   "version": "0.3.2",
   "views": {}
  },
  "kernelspec": {
   "display_name": "Python 3",
   "language": "python",
   "name": "python3"
  },
  "language_info": {
   "codemirror_mode": {
    "name": "ipython",
    "version": 3
   },
   "file_extension": ".py",
   "mimetype": "text/x-python",
   "name": "python",
   "nbconvert_exporter": "python",
   "pygments_lexer": "ipython3",
   "version": "3.6.5"
  },
  "livereveal": {
   "scroll": true
  }
 },
 "nbformat": 4,
 "nbformat_minor": 1
}
