{
 "cells": [
  {
   "cell_type": "markdown",
   "id": "338ad505",
   "metadata": {},
   "source": [
    "# Causal Python - PyCon2021 IL\n",
    "# Dr. Hanan Shteingart\n",
    "\n",
    "## Sex Bias in Graduate Admissions: Data From Berkeley\n",
    "\n",
    "Simpson's Paradox (Confounder Bias) Effect Estimation in 4 Ways:\n",
    "1. Naive\n",
    "2. Standarization\n",
    "3. Regression\n",
    "4. IPTW\n",
    "\n",
    "Inspired by a Science paper:\n",
    "P.J. Bickel, E.A. Hammel and J.W. O'Connell (1975). \"Sex Bias in Graduate Admissions: Data From Berkeley\" (PDF). Science. 187 (4175): 398–404. doi:10.1126/science.187.4175.398. PMID 17835295."
   ]
  },
  {
   "cell_type": "code",
   "execution_count": 253,
   "id": "0b1f2669",
   "metadata": {},
   "outputs": [],
   "source": [
    "import pandas as pd\n",
    "import numpy as np\n",
    "from io import StringIO"
   ]
  },
  {
   "cell_type": "code",
   "execution_count": 190,
   "id": "beaa7ae6",
   "metadata": {},
   "outputs": [
    {
     "data": {
      "text/html": [
       "<div>\n",
       "<style scoped>\n",
       "    .dataframe tbody tr th:only-of-type {\n",
       "        vertical-align: middle;\n",
       "    }\n",
       "\n",
       "    .dataframe tbody tr th {\n",
       "        vertical-align: top;\n",
       "    }\n",
       "\n",
       "    .dataframe thead th {\n",
       "        text-align: right;\n",
       "    }\n",
       "</style>\n",
       "<table border=\"1\" class=\"dataframe\">\n",
       "  <thead>\n",
       "    <tr style=\"text-align: right;\">\n",
       "      <th></th>\n",
       "      <th>Department</th>\n",
       "      <th>Male-Admitted</th>\n",
       "      <th>Male-Denied</th>\n",
       "      <th>Female-Admitted</th>\n",
       "      <th>Female-Denied</th>\n",
       "    </tr>\n",
       "  </thead>\n",
       "  <tbody>\n",
       "    <tr>\n",
       "      <th>0</th>\n",
       "      <td>A</td>\n",
       "      <td>512</td>\n",
       "      <td>313</td>\n",
       "      <td>89</td>\n",
       "      <td>19</td>\n",
       "    </tr>\n",
       "    <tr>\n",
       "      <th>1</th>\n",
       "      <td>B</td>\n",
       "      <td>313</td>\n",
       "      <td>207</td>\n",
       "      <td>17</td>\n",
       "      <td>8</td>\n",
       "    </tr>\n",
       "    <tr>\n",
       "      <th>2</th>\n",
       "      <td>C</td>\n",
       "      <td>101</td>\n",
       "      <td>205</td>\n",
       "      <td>202</td>\n",
       "      <td>391</td>\n",
       "    </tr>\n",
       "    <tr>\n",
       "      <th>3</th>\n",
       "      <td>D</td>\n",
       "      <td>138</td>\n",
       "      <td>279</td>\n",
       "      <td>131</td>\n",
       "      <td>244</td>\n",
       "    </tr>\n",
       "    <tr>\n",
       "      <th>4</th>\n",
       "      <td>E</td>\n",
       "      <td>40</td>\n",
       "      <td>138</td>\n",
       "      <td>94</td>\n",
       "      <td>299</td>\n",
       "    </tr>\n",
       "    <tr>\n",
       "      <th>5</th>\n",
       "      <td>F</td>\n",
       "      <td>22</td>\n",
       "      <td>351</td>\n",
       "      <td>24</td>\n",
       "      <td>317</td>\n",
       "    </tr>\n",
       "  </tbody>\n",
       "</table>\n",
       "</div>"
      ],
      "text/plain": [
       "  Department  Male-Admitted  Male-Denied  Female-Admitted  Female-Denied\n",
       "0          A            512          313               89             19\n",
       "1          B            313          207               17              8\n",
       "2          C            101          205              202            391\n",
       "3          D            138          279              131            244\n",
       "4          E             40          138               94            299\n",
       "5          F             22          351               24            317"
      ]
     },
     "execution_count": 190,
     "metadata": {},
     "output_type": "execute_result"
    }
   ],
   "source": [
    "dataset = \"\"\"Department,Male-Admitted,Male-Denied,Female-Admitted,Female-Denied\n",
    "A,512,313,89,19\n",
    "B,313,207,17,8\n",
    "C,101,205,202,391\n",
    "D,138,279,131,244\n",
    "E,40,138,94,299\n",
    "F,22,351,24,317\"\"\"\n",
    "# from https://raw.githubusercontent.com/hupili/python-for-data-and-media-communication-gitbook/master/assets/1973-UC-Berkeley-Admission-Data-Synthesis-Data.csv\n",
    "df = pd.read_csv(StringIO(dataset))\n",
    "df"
   ]
  },
  {
   "cell_type": "code",
   "execution_count": 195,
   "id": "2b393c4a",
   "metadata": {},
   "outputs": [
    {
     "data": {
      "text/html": [
       "<div>\n",
       "<style scoped>\n",
       "    .dataframe tbody tr th:only-of-type {\n",
       "        vertical-align: middle;\n",
       "    }\n",
       "\n",
       "    .dataframe tbody tr th {\n",
       "        vertical-align: top;\n",
       "    }\n",
       "\n",
       "    .dataframe thead th {\n",
       "        text-align: right;\n",
       "    }\n",
       "</style>\n",
       "<table border=\"1\" class=\"dataframe\">\n",
       "  <thead>\n",
       "    <tr style=\"text-align: right;\">\n",
       "      <th></th>\n",
       "      <th>Department</th>\n",
       "      <th>male</th>\n",
       "      <th>admitted</th>\n",
       "    </tr>\n",
       "  </thead>\n",
       "  <tbody>\n",
       "    <tr>\n",
       "      <th>0</th>\n",
       "      <td>A</td>\n",
       "      <td>True</td>\n",
       "      <td>True</td>\n",
       "    </tr>\n",
       "    <tr>\n",
       "      <th>0</th>\n",
       "      <td>A</td>\n",
       "      <td>True</td>\n",
       "      <td>True</td>\n",
       "    </tr>\n",
       "    <tr>\n",
       "      <th>0</th>\n",
       "      <td>A</td>\n",
       "      <td>True</td>\n",
       "      <td>True</td>\n",
       "    </tr>\n",
       "    <tr>\n",
       "      <th>0</th>\n",
       "      <td>A</td>\n",
       "      <td>True</td>\n",
       "      <td>True</td>\n",
       "    </tr>\n",
       "    <tr>\n",
       "      <th>0</th>\n",
       "      <td>A</td>\n",
       "      <td>True</td>\n",
       "      <td>True</td>\n",
       "    </tr>\n",
       "    <tr>\n",
       "      <th>...</th>\n",
       "      <td>...</td>\n",
       "      <td>...</td>\n",
       "      <td>...</td>\n",
       "    </tr>\n",
       "    <tr>\n",
       "      <th>23</th>\n",
       "      <td>F</td>\n",
       "      <td>False</td>\n",
       "      <td>False</td>\n",
       "    </tr>\n",
       "    <tr>\n",
       "      <th>23</th>\n",
       "      <td>F</td>\n",
       "      <td>False</td>\n",
       "      <td>False</td>\n",
       "    </tr>\n",
       "    <tr>\n",
       "      <th>23</th>\n",
       "      <td>F</td>\n",
       "      <td>False</td>\n",
       "      <td>False</td>\n",
       "    </tr>\n",
       "    <tr>\n",
       "      <th>23</th>\n",
       "      <td>F</td>\n",
       "      <td>False</td>\n",
       "      <td>False</td>\n",
       "    </tr>\n",
       "    <tr>\n",
       "      <th>23</th>\n",
       "      <td>F</td>\n",
       "      <td>False</td>\n",
       "      <td>False</td>\n",
       "    </tr>\n",
       "  </tbody>\n",
       "</table>\n",
       "<p>4454 rows × 3 columns</p>\n",
       "</div>"
      ],
      "text/plain": [
       "   Department   male  admitted\n",
       "0           A   True      True\n",
       "0           A   True      True\n",
       "0           A   True      True\n",
       "0           A   True      True\n",
       "0           A   True      True\n",
       "..        ...    ...       ...\n",
       "23          F  False     False\n",
       "23          F  False     False\n",
       "23          F  False     False\n",
       "23          F  False     False\n",
       "23          F  False     False\n",
       "\n",
       "[4454 rows x 3 columns]"
      ]
     },
     "execution_count": 195,
     "metadata": {},
     "output_type": "execute_result"
    }
   ],
   "source": [
    "def melt_and_duplicate(df):\n",
    "    \"\"\"convert the summary stats to raw data where every row is a student\"\"\"\n",
    "    df_melt = df.melt(id_vars='Department',var_name='group', value_name='count')\n",
    "    df_melt['male'] = df_melt['group'].str.contains('Male')\n",
    "    df_melt['admitted'] = df_melt['group'].str.contains('Admitted')\n",
    "    df_list = []\n",
    "    for i in range(len(df_melt)):\n",
    "        df_list.append(pd.concat([df_melt.iloc[[i]]] * df_melt.iloc[i]['count'], axis=0))\n",
    "    df_raw = pd.concat(df_list, axis=0)\n",
    "    df_raw = df_raw.drop(['group', 'count'], axis=1)\n",
    "    return df_raw\n",
    "df_raw = melt_and_duplicate(df)\n",
    "df_raw"
   ]
  },
  {
   "cell_type": "markdown",
   "id": "34f0a7ab",
   "metadata": {},
   "source": [
    "## Native Approach "
   ]
  },
  {
   "cell_type": "code",
   "execution_count": 249,
   "id": "e15627be",
   "metadata": {},
   "outputs": [
    {
     "name": "stdout",
     "output_type": "stream",
     "text": [
      "0.1263928553964791\n"
     ]
    },
    {
     "data": {
      "image/png": "[encoded data removed]",
      "text/plain": [
       "<Figure size 432x288 with 1 Axes>"
      ]
     },
     "metadata": {
      "needs_background": "light"
     },
     "output_type": "display_data"
    }
   ],
   "source": [
    "naive_est = df_raw.groupby('male')['admitted'].mean()\n",
    "naive_est.plot(kind='bar', legend=True)\n",
    "naive_ate = naive_effect.diff()[1]\n",
    "print(naive_ate)"
   ]
  },
  {
   "cell_type": "markdown",
   "id": "f14ca79b",
   "metadata": {},
   "source": [
    "## Wrong conclusion: Bias in admission to favour males over females"
   ]
  },
  {
   "cell_type": "markdown",
   "id": "cc424de8",
   "metadata": {},
   "source": [
    "## Stantarization "
   ]
  },
  {
   "cell_type": "code",
   "execution_count": 152,
   "id": "d1a28717",
   "metadata": {},
   "outputs": [
    {
     "data": {
      "text/html": [
       "<div>\n",
       "<style scoped>\n",
       "    .dataframe tbody tr th:only-of-type {\n",
       "        vertical-align: middle;\n",
       "    }\n",
       "\n",
       "    .dataframe tbody tr th {\n",
       "        vertical-align: top;\n",
       "    }\n",
       "\n",
       "    .dataframe thead th {\n",
       "        text-align: right;\n",
       "    }\n",
       "</style>\n",
       "<table border=\"1\" class=\"dataframe\">\n",
       "  <thead>\n",
       "    <tr style=\"text-align: right;\">\n",
       "      <th></th>\n",
       "      <th>Department</th>\n",
       "    </tr>\n",
       "  </thead>\n",
       "  <tbody>\n",
       "    <tr>\n",
       "      <th>A</th>\n",
       "      <td>0.209475</td>\n",
       "    </tr>\n",
       "    <tr>\n",
       "      <th>C</th>\n",
       "      <td>0.201841</td>\n",
       "    </tr>\n",
       "    <tr>\n",
       "      <th>D</th>\n",
       "      <td>0.177818</td>\n",
       "    </tr>\n",
       "    <tr>\n",
       "      <th>F</th>\n",
       "      <td>0.160305</td>\n",
       "    </tr>\n",
       "    <tr>\n",
       "      <th>E</th>\n",
       "      <td>0.128199</td>\n",
       "    </tr>\n",
       "    <tr>\n",
       "      <th>B</th>\n",
       "      <td>0.122362</td>\n",
       "    </tr>\n",
       "  </tbody>\n",
       "</table>\n",
       "</div>"
      ],
      "text/plain": [
       "   Department\n",
       "A    0.209475\n",
       "C    0.201841\n",
       "D    0.177818\n",
       "F    0.160305\n",
       "E    0.128199\n",
       "B    0.122362"
      ]
     },
     "execution_count": 152,
     "metadata": {},
     "output_type": "execute_result"
    }
   ],
   "source": [
    "p_x = df_raw.Department.value_counts(normalize=True)\n",
    "p_x.to_frame()"
   ]
  },
  {
   "cell_type": "code",
   "execution_count": 153,
   "id": "584d85b7",
   "metadata": {},
   "outputs": [
    {
     "data": {
      "text/html": [
       "<div>\n",
       "<style scoped>\n",
       "    .dataframe tbody tr th:only-of-type {\n",
       "        vertical-align: middle;\n",
       "    }\n",
       "\n",
       "    .dataframe tbody tr th {\n",
       "        vertical-align: top;\n",
       "    }\n",
       "\n",
       "    .dataframe thead th {\n",
       "        text-align: right;\n",
       "    }\n",
       "</style>\n",
       "<table border=\"1\" class=\"dataframe\">\n",
       "  <thead>\n",
       "    <tr style=\"text-align: right;\">\n",
       "      <th></th>\n",
       "      <th>male</th>\n",
       "      <th>admitted</th>\n",
       "    </tr>\n",
       "    <tr>\n",
       "      <th>Department</th>\n",
       "      <th></th>\n",
       "      <th></th>\n",
       "    </tr>\n",
       "  </thead>\n",
       "  <tbody>\n",
       "    <tr>\n",
       "      <th>A</th>\n",
       "      <td>False</td>\n",
       "      <td>0.824074</td>\n",
       "    </tr>\n",
       "    <tr>\n",
       "      <th>A</th>\n",
       "      <td>True</td>\n",
       "      <td>0.620606</td>\n",
       "    </tr>\n",
       "    <tr>\n",
       "      <th>B</th>\n",
       "      <td>False</td>\n",
       "      <td>0.680000</td>\n",
       "    </tr>\n",
       "    <tr>\n",
       "      <th>B</th>\n",
       "      <td>True</td>\n",
       "      <td>0.601923</td>\n",
       "    </tr>\n",
       "    <tr>\n",
       "      <th>C</th>\n",
       "      <td>False</td>\n",
       "      <td>0.340641</td>\n",
       "    </tr>\n",
       "    <tr>\n",
       "      <th>C</th>\n",
       "      <td>True</td>\n",
       "      <td>0.330065</td>\n",
       "    </tr>\n",
       "    <tr>\n",
       "      <th>D</th>\n",
       "      <td>False</td>\n",
       "      <td>0.349333</td>\n",
       "    </tr>\n",
       "    <tr>\n",
       "      <th>D</th>\n",
       "      <td>True</td>\n",
       "      <td>0.330935</td>\n",
       "    </tr>\n",
       "    <tr>\n",
       "      <th>E</th>\n",
       "      <td>False</td>\n",
       "      <td>0.239186</td>\n",
       "    </tr>\n",
       "    <tr>\n",
       "      <th>E</th>\n",
       "      <td>True</td>\n",
       "      <td>0.224719</td>\n",
       "    </tr>\n",
       "    <tr>\n",
       "      <th>F</th>\n",
       "      <td>False</td>\n",
       "      <td>0.070381</td>\n",
       "    </tr>\n",
       "    <tr>\n",
       "      <th>F</th>\n",
       "      <td>True</td>\n",
       "      <td>0.058981</td>\n",
       "    </tr>\n",
       "  </tbody>\n",
       "</table>\n",
       "</div>"
      ],
      "text/plain": [
       "             male  admitted\n",
       "Department                 \n",
       "A           False  0.824074\n",
       "A            True  0.620606\n",
       "B           False  0.680000\n",
       "B            True  0.601923\n",
       "C           False  0.340641\n",
       "C            True  0.330065\n",
       "D           False  0.349333\n",
       "D            True  0.330935\n",
       "E           False  0.239186\n",
       "E            True  0.224719\n",
       "F           False  0.070381\n",
       "F            True  0.058981"
      ]
     },
     "execution_count": 153,
     "metadata": {},
     "output_type": "execute_result"
    }
   ],
   "source": [
    "p_y_x = df_raw.groupby(['Department','male'])['admitted'].mean()\n",
    "p_y_x = p_y_x.reset_index(level=1)\n",
    "p_y_x"
   ]
  },
  {
   "cell_type": "code",
   "execution_count": 157,
   "id": "97e461b5",
   "metadata": {},
   "outputs": [],
   "source": [
    "p_y_x['weighted'] = p_y_x['admitted'] * p_x"
   ]
  },
  {
   "cell_type": "code",
   "execution_count": 247,
   "id": "77cfc13b",
   "metadata": {},
   "outputs": [
    {
     "name": "stdout",
     "output_type": "stream",
     "text": [
      "-0.06126318937738062\n"
     ]
    }
   ],
   "source": [
    "stratified_ate = p_y_x.groupby('male').weighted.sum().diff()[1]\n",
    "print(stratified_ate)"
   ]
  },
  {
   "cell_type": "code",
   "execution_count": 165,
   "id": "ade698c1",
   "metadata": {},
   "outputs": [
    {
     "data": {
      "text/plain": [
       "male\n",
       "False         NaN\n",
       "True    -0.061263\n",
       "Name: weighted, dtype: float64"
      ]
     },
     "execution_count": 165,
     "metadata": {},
     "output_type": "execute_result"
    }
   ],
   "source": [
    "stratified_effect.diff()"
   ]
  },
  {
   "cell_type": "markdown",
   "id": "ed885cfe",
   "metadata": {},
   "source": [
    "## Regression Adjustment"
   ]
  },
  {
   "cell_type": "code",
   "execution_count": 171,
   "id": "0f63334d",
   "metadata": {},
   "outputs": [],
   "source": [
    "from statsmodels.regression.linear_model import OLS"
   ]
  },
  {
   "cell_type": "code",
   "execution_count": 198,
   "id": "e966c424",
   "metadata": {},
   "outputs": [],
   "source": [
    "import statsmodels.formula.api as smf"
   ]
  },
  {
   "cell_type": "code",
   "execution_count": 243,
   "id": "45498071",
   "metadata": {},
   "outputs": [
    {
     "data": {
      "text/html": [
       "<table class=\"simpletable\">\n",
       "<caption>OLS Regression Results</caption>\n",
       "<tr>\n",
       "  <th>Dep. Variable:</th>            <td>y</td>        <th>  R-squared:         </th> <td>   0.172</td> \n",
       "</tr>\n",
       "<tr>\n",
       "  <th>Model:</th>                   <td>OLS</td>       <th>  Adj. R-squared:    </th> <td>   0.171</td> \n",
       "</tr>\n",
       "<tr>\n",
       "  <th>Method:</th>             <td>Least Squares</td>  <th>  F-statistic:       </th> <td>   153.9</td> \n",
       "</tr>\n",
       "<tr>\n",
       "  <th>Date:</th>             <td>Mon, 26 Apr 2021</td> <th>  Prob (F-statistic):</th> <td>4.25e-178</td>\n",
       "</tr>\n",
       "<tr>\n",
       "  <th>Time:</th>                 <td>18:38:11</td>     <th>  Log-Likelihood:    </th> <td> -2675.4</td> \n",
       "</tr>\n",
       "<tr>\n",
       "  <th>No. Observations:</th>      <td>  4454</td>      <th>  AIC:               </th> <td>   5365.</td> \n",
       "</tr>\n",
       "<tr>\n",
       "  <th>Df Residuals:</th>          <td>  4447</td>      <th>  BIC:               </th> <td>   5410.</td> \n",
       "</tr>\n",
       "<tr>\n",
       "  <th>Df Model:</th>              <td>     6</td>      <th>                     </th>     <td> </td>    \n",
       "</tr>\n",
       "<tr>\n",
       "  <th>Covariance Type:</th>      <td>nonrobust</td>    <th>                     </th>     <td> </td>    \n",
       "</tr>\n",
       "</table>\n",
       "<table class=\"simpletable\">\n",
       "<tr>\n",
       "           <td></td>             <th>coef</th>     <th>std err</th>      <th>t</th>      <th>P>|t|</th>  <th>[0.025</th>    <th>0.975]</th>  \n",
       "</tr>\n",
       "<tr>\n",
       "  <th>Intercept</th>          <td>    0.6775</td> <td>    0.020</td> <td>   34.086</td> <td> 0.000</td> <td>    0.639</td> <td>    0.716</td>\n",
       "</tr>\n",
       "<tr>\n",
       "  <th>male[T.True]</th>       <td>   -0.0377</td> <td>    0.015</td> <td>   -2.442</td> <td> 0.015</td> <td>   -0.068</td> <td>   -0.007</td>\n",
       "</tr>\n",
       "<tr>\n",
       "  <th>C(Department)[T.B]</th> <td>   -0.0360</td> <td>    0.024</td> <td>   -1.512</td> <td> 0.131</td> <td>   -0.083</td> <td>    0.011</td>\n",
       "</tr>\n",
       "<tr>\n",
       "  <th>C(Department)[T.C]</th> <td>   -0.3276</td> <td>    0.022</td> <td>  -14.707</td> <td> 0.000</td> <td>   -0.371</td> <td>   -0.284</td>\n",
       "</tr>\n",
       "<tr>\n",
       "  <th>C(Department)[T.D]</th> <td>   -0.3180</td> <td>    0.022</td> <td>  -14.431</td> <td> 0.000</td> <td>   -0.361</td> <td>   -0.275</td>\n",
       "</tr>\n",
       "<tr>\n",
       "  <th>C(Department)[T.E]</th> <td>   -0.4310</td> <td>    0.025</td> <td>  -17.195</td> <td> 0.000</td> <td>   -0.480</td> <td>   -0.382</td>\n",
       "</tr>\n",
       "<tr>\n",
       "  <th>C(Department)[T.F]</th> <td>   -0.5934</td> <td>    0.023</td> <td>  -26.193</td> <td> 0.000</td> <td>   -0.638</td> <td>   -0.549</td>\n",
       "</tr>\n",
       "</table>\n",
       "<table class=\"simpletable\">\n",
       "<tr>\n",
       "  <th>Omnibus:</th>       <td>2839.241</td> <th>  Durbin-Watson:     </th> <td>   0.007</td>\n",
       "</tr>\n",
       "<tr>\n",
       "  <th>Prob(Omnibus):</th>  <td> 0.000</td>  <th>  Jarque-Bera (JB):  </th> <td> 330.503</td>\n",
       "</tr>\n",
       "<tr>\n",
       "  <th>Skew:</th>           <td> 0.328</td>  <th>  Prob(JB):          </th> <td>1.71e-72</td>\n",
       "</tr>\n",
       "<tr>\n",
       "  <th>Kurtosis:</th>       <td> 1.838</td>  <th>  Cond. No.          </th> <td>    8.00</td>\n",
       "</tr>\n",
       "</table><br/><br/>Notes:<br/>[1] Standard Errors assume that the covariance matrix of the errors is correctly specified."
      ],
      "text/plain": [
       "<class 'statsmodels.iolib.summary.Summary'>\n",
       "\"\"\"\n",
       "                            OLS Regression Results                            \n",
       "==============================================================================\n",
       "Dep. Variable:                      y   R-squared:                       0.172\n",
       "Model:                            OLS   Adj. R-squared:                  0.171\n",
       "Method:                 Least Squares   F-statistic:                     153.9\n",
       "Date:                Mon, 26 Apr 2021   Prob (F-statistic):          4.25e-178\n",
       "Time:                        18:38:11   Log-Likelihood:                -2675.4\n",
       "No. Observations:                4454   AIC:                             5365.\n",
       "Df Residuals:                    4447   BIC:                             5410.\n",
       "Df Model:                           6                                         \n",
       "Covariance Type:            nonrobust                                         \n",
       "======================================================================================\n",
       "                         coef    std err          t      P>|t|      [0.025      0.975]\n",
       "--------------------------------------------------------------------------------------\n",
       "Intercept              0.6775      0.020     34.086      0.000       0.639       0.716\n",
       "male[T.True]          -0.0377      0.015     -2.442      0.015      -0.068      -0.007\n",
       "C(Department)[T.B]    -0.0360      0.024     -1.512      0.131      -0.083       0.011\n",
       "C(Department)[T.C]    -0.3276      0.022    -14.707      0.000      -0.371      -0.284\n",
       "C(Department)[T.D]    -0.3180      0.022    -14.431      0.000      -0.361      -0.275\n",
       "C(Department)[T.E]    -0.4310      0.025    -17.195      0.000      -0.480      -0.382\n",
       "C(Department)[T.F]    -0.5934      0.023    -26.193      0.000      -0.638      -0.549\n",
       "==============================================================================\n",
       "Omnibus:                     2839.241   Durbin-Watson:                   0.007\n",
       "Prob(Omnibus):                  0.000   Jarque-Bera (JB):              330.503\n",
       "Skew:                           0.328   Prob(JB):                     1.71e-72\n",
       "Kurtosis:                       1.838   Cond. No.                         8.00\n",
       "==============================================================================\n",
       "\n",
       "Notes:\n",
       "[1] Standard Errors assume that the covariance matrix of the errors is correctly specified.\n",
       "\"\"\""
      ]
     },
     "execution_count": 243,
     "metadata": {},
     "output_type": "execute_result"
    }
   ],
   "source": [
    "df_raw['y'] = df_raw.admitted.astype('float')\n",
    "reg_model = smf.ols(formula = 'y ~ male + C(Department)', data=df_raw.reset_index()).fit()\n",
    "reg_ate = reg_model.params['male[T.True]']\n",
    "reg_model.summary()"
   ]
  },
  {
   "cell_type": "markdown",
   "id": "1ce5ed7d",
   "metadata": {},
   "source": [
    "## IPTW"
   ]
  },
  {
   "cell_type": "code",
   "execution_count": 206,
   "id": "35a8b8e7",
   "metadata": {},
   "outputs": [],
   "source": [
    "df_raw['male_float'] = df_raw['male'].astype('float')\n",
    "propensity_model = smf.ols(formula = 'male_float ~ C(Department)', data = df_raw.reset_index()).fit()"
   ]
  },
  {
   "cell_type": "code",
   "execution_count": 214,
   "id": "9ea2bbf0",
   "metadata": {},
   "outputs": [],
   "source": [
    "p = propensity_model.get_prediction().predicted_mean"
   ]
  },
  {
   "cell_type": "code",
   "execution_count": 244,
   "id": "edfa26b7",
   "metadata": {},
   "outputs": [],
   "source": [
    "iptw_ate = (df_raw['admitted']*(df_raw['male'] -p)/(p*(1-p))).mean()"
   ]
  },
  {
   "cell_type": "markdown",
   "id": "f0cb3de8",
   "metadata": {},
   "source": [
    "## Summary"
   ]
  },
  {
   "cell_type": "code",
   "execution_count": 255,
   "id": "a14662d3",
   "metadata": {},
   "outputs": [
    {
     "data": {
      "image/png": "[encoded data removed]",
      "text/plain": [
       "<Figure size 432x288 with 1 Axes>"
      ]
     },
     "metadata": {
      "needs_background": "light"
     },
     "output_type": "display_data"
    }
   ],
   "source": [
    "pd.DataFrame({'method':['naive','standartization','regression','IPTW'], \n",
    "              'ATE':[naive_ate, stratified_ate, reg_ate,iptw_ate]}).set_index('method').plot(kind='barh');"
   ]
  }
 ],
 "metadata": {
  "kernelspec": {
   "display_name": "Python 3",
   "language": "python",
   "name": "python3"
  },
  "language_info": {
   "codemirror_mode": {
    "name": "ipython",
    "version": 3
   },
   "file_extension": ".py",
   "mimetype": "text/x-python",
   "name": "python",
   "nbconvert_exporter": "python",
   "pygments_lexer": "ipython3",
   "version": "3.9.2"
  }
 },
 "nbformat": 4,
 "nbformat_minor": 5
}
